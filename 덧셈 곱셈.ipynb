{
 "cells": [
  {
   "cell_type": "code",
   "execution_count": 3,
   "metadata": {},
   "outputs": [],
   "source": [
    "def pn(a) :\n",
    "    cnt = 0\n",
    "    # 정수부분이 존재하는 경우, 소수부분 고려\n",
    "    if int(a):\n",
    "        b = a\n",
    "        while b != 0.0 :\n",
    "            # 소수부분 구하기\n",
    "            l = len(str(int(b)))\n",
    "            c = float('0'+str(b)[l:])\n",
    "            if c != 0.0 :\n",
    "                cnt+=1\n",
    "            b = b*10\n",
    "            l = len(str(int(b)))\n",
    "            b = float('0'+str(b)[l:])\n",
    "    # 정수인 경우\n",
    "    while a == int(a):\n",
    "        a = a/10\n",
    "        if a == int(a) :\n",
    "            cnt-=1\n",
    "    return cnt\n",
    "def sgnum(a) :\n",
    "    cnt = 0\n",
    "    b = int(a)\n",
    "    # 정수부분이 존재하는 경우, 정수부분이 유효숫자 개수\n",
    "    if int(a):\n",
    "        while b:\n",
    "            b = b/10\n",
    "            b = int(b)\n",
    "            cnt+=1\n",
    "    # 소수부분 유효숫자 개수\n",
    "    while a != 0.0 :\n",
    "        l = len(str(int(a)))\n",
    "        b = float('0'+str(a)[l:])\n",
    "        if b != 0.0 :\n",
    "            cnt+=1\n",
    "        a = a*10\n",
    "        l = len(str(int(a)))\n",
    "        a = float('0'+str(a)[l:])\n",
    "    return cnt"
   ]
  },
  {
   "cell_type": "code",
   "execution_count": 1,
   "metadata": {},
   "outputs": [],
   "source": [
    "def sum() :\n",
    "    a = input(\"더할 숫자들을 입력해주세요(숫자 사이에 띄어쓰기): \")\n",
    "    a = a.split()\n",
    "    # tmp에 가장 높은 유효숫자 자릿수를 저장\n",
    "    tmp = pn(float(a[0]))\n",
    "    # s에 총 합 저장\n",
    "    s = 0\n",
    "    for i in a :\n",
    "        if tmp > pn(float(i)) :\n",
    "            tmp = pn(float(i))\n",
    "        s += float(i)\n",
    "    # 반올림\n",
    "    print(round(s,tmp))"
   ]
  },
  {
   "cell_type": "code",
   "execution_count": 47,
   "metadata": {},
   "outputs": [],
   "source": [
    "def mult() :\n",
    "    a = input(\"곱할 숫자들을 입력해주세요(숫자 사이에 띄어쓰기): \")\n",
    "    a = a.split()\n",
    "    # tmp에 가장 많은 유효숫자 개수 저장\n",
    "    tmp = sgnum(float(a[0]))\n",
    "    # s에 총 곱 저장\n",
    "    s = 1\n",
    "    # cnt1에 10을 곱하는 횟수 저장\n",
    "    cnt1 = 0\n",
    "    # cnt2에 10을 곱한 후 최대자릿수 저장\n",
    "    cnt2 = 0\n",
    "    for i in a :\n",
    "        if tmp > sgnum(float(i)) :\n",
    "            tmp = sgnum(float(i))\n",
    "        s *= float(i)\n",
    "    print(tmp)\n",
    "    l = len(str(int(s)))\n",
    "    b = float('0'+str(s)[l:])\n",
    "    # 총 곱을 구한 후 정수가 될때까지 10을 곱함\n",
    "    while b != 0.0 :\n",
    "        s = s*10\n",
    "        l = len(str(int(s)))\n",
    "        b = float('0'+str(s)[l:])\n",
    "        cnt1 += 1\n",
    "    c = int(s)\n",
    "    while c :\n",
    "        c = int(c/10)\n",
    "        cnt2 += 1\n",
    "    s = str(int(s))\n",
    "    t = 10**(cnt2-1)\n",
    "    result = 0\n",
    "    # 가장 적은 유효숫자 개수만큼 남기고 반올림하는 과정\n",
    "    for i in s :\n",
    "        if tmp == 0 :\n",
    "            # 반올림\n",
    "            if int(i) >= 5 :\n",
    "                result += t*10\n",
    "            break\n",
    "        result += t*int(i)\n",
    "        tmp -= 1\n",
    "        t /= 10\n",
    "    result = result/10**cnt1\n",
    "    print(result)"
   ]
  },
  {
   "cell_type": "code",
   "execution_count": null,
   "metadata": {},
   "outputs": [],
   "source": [
    "cnt = 2\n",
    "tmp = 10000\n",
    "sum = 0\n",
    "a = 451523\n",
    "a = str(a)\n",
    "for i in a : \n",
    "    if cnt == 0 :\n",
    "        break\n",
    "    sum += tmp*int(i)\n",
    "    cnt -= 1\n",
    "    tmp /= 10\n",
    "sum = sum/1000\n",
    "print(sum)"
   ]
  },
  {
   "cell_type": "code",
   "execution_count": null,
   "metadata": {},
   "outputs": [],
   "source": [
    "print(pn(3.354))"
   ]
  },
  {
   "cell_type": "code",
   "execution_count": 50,
   "metadata": {},
   "outputs": [
    {
     "name": "stdout",
     "output_type": "stream",
     "text": [
      "곱할 숫자들을 입력해주세요(숫자 사이에 띄어쓰기): 6.5 6.5 111\n",
      "2\n",
      "4700.0\n"
     ]
    }
   ],
   "source": [
    "mult()"
   ]
  },
  {
   "cell_type": "code",
   "execution_count": 4,
   "metadata": {},
   "outputs": [
    {
     "name": "stdout",
     "output_type": "stream",
     "text": [
      "더할 숫자들을 입력해주세요(숫자 사이에 띄어쓰기): 1.5 2.5 3.36 2.5\n",
      "9.9\n"
     ]
    }
   ],
   "source": [
    "sum()"
   ]
  },
  {
   "cell_type": "code",
   "execution_count": null,
   "metadata": {},
   "outputs": [],
   "source": [
    "a = 3.45\n",
    "a*10\n",
    "print(a)\n",
    "print(float(int(a)))\n",
    "round(a-float(int(a)),2)"
   ]
  },
  {
   "cell_type": "code",
   "execution_count": null,
   "metadata": {},
   "outputs": [],
   "source": [
    "a = 5\n",
    "print(str(a))"
   ]
  },
  {
   "cell_type": "code",
   "execution_count": null,
   "metadata": {},
   "outputs": [],
   "source": [
    "l = len(str(int(a)))\n",
    "b = '0'+str(a)[l:]\n",
    "print(float(b))"
   ]
  },
  {
   "cell_type": "code",
   "execution_count": null,
   "metadata": {},
   "outputs": [],
   "source": [
    "a = 3.45\n",
    "cnt = 0\n",
    "while a != 0.0 :\n",
    "    a = a*10\n",
    "    l = len(str(int(a)))\n",
    "    a = float('0'+str(a)[l:])\n",
    "    if a != 0.0 :\n",
    "        cnt+=1\n",
    "print(cnt)"
   ]
  },
  {
   "cell_type": "code",
   "execution_count": null,
   "metadata": {},
   "outputs": [],
   "source": [
    "print(5/10)"
   ]
  },
  {
   "cell_type": "code",
   "execution_count": null,
   "metadata": {},
   "outputs": [],
   "source": [
    "a = 345/10\n",
    "print(a==int(a))"
   ]
  },
  {
   "cell_type": "code",
   "execution_count": null,
   "metadata": {},
   "outputs": [],
   "source": [
    "int(0.5)"
   ]
  },
  {
   "cell_type": "code",
   "execution_count": null,
   "metadata": {},
   "outputs": [],
   "source": [
    "round(4.5)"
   ]
  },
  {
   "cell_type": "code",
   "execution_count": 18,
   "metadata": {},
   "outputs": [
    {
     "name": "stdout",
     "output_type": "stream",
     "text": [
      "45.0\n"
     ]
    }
   ],
   "source": [
    "cnt = 2\n",
    "tmp = 10000\n",
    "sum = 0\n",
    "a = 451523\n",
    "a = str(a)\n",
    "for i in a : \n",
    "    if cnt == 0 :\n",
    "        break\n",
    "    sum += tmp*int(i)\n",
    "    cnt -= 1\n",
    "    tmp /= 10\n",
    "sum = sum/1000\n",
    "print(sum)"
   ]
  },
  {
   "cell_type": "code",
   "execution_count": null,
   "metadata": {},
   "outputs": [],
   "source": [
    "45.1523"
   ]
  },
  {
   "cell_type": "code",
   "execution_count": null,
   "metadata": {},
   "outputs": [],
   "source": []
  }
 ],
 "metadata": {
  "kernelspec": {
   "display_name": "Python 3",
   "language": "python",
   "name": "python3"
  },
  "language_info": {
   "codemirror_mode": {
    "name": "ipython",
    "version": 3
   },
   "file_extension": ".py",
   "mimetype": "text/x-python",
   "name": "python",
   "nbconvert_exporter": "python",
   "pygments_lexer": "ipython3",
   "version": "3.6.4"
  }
 },
 "nbformat": 4,
 "nbformat_minor": 2
}
